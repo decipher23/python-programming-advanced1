{
 "cells": [
  {
   "cell_type": "code",
   "execution_count": 1,
   "id": "90dcb440",
   "metadata": {},
   "outputs": [
    {
     "name": "stdout",
     "output_type": "stream",
     "text": [
      "arithmetic_operation(12 + 12) ➞ 24\n",
      "arithmetic_operation(12 - 12) ➞ 0\n",
      "arithmetic_operation(12 * 12) ➞ 144\n",
      "arithmetic_operation(12 // 0) ➞ -1\n"
     ]
    }
   ],
   "source": [
    "# 1. Create a function to perform basic arithmetic operations that includes\n",
    "# addition, subtraction, multiplication and division on a string number (e.g. &quot;12 +\n",
    "# 24&quot; or &quot;23 - 21&quot; or &quot;12 // 12&quot; or &quot;12 * 21&quot;).\n",
    "# Here, we have 1 followed by a space, operator followed by another space\n",
    "# and 2. For the challenge, we are going to have only two numbers between 1\n",
    "# valid operator. The return value should be a number.\n",
    "# eval() is not allowed. In case of division, whenever the second number equals\n",
    "# &quot;0&quot; return -1.\n",
    "# For example:\n",
    "# &quot;15 // 0&quot; ➞ -1\n",
    "import operator\n",
    "\n",
    "ops = {'+':operator.add,'-':operator.sub,'*':operator.mul,'//':operator.floordiv}\n",
    "\n",
    "def arithmetic_operation(in_string):\n",
    "    in_list = in_string.split(\" \")\n",
    "    output = ops[in_list[1]](int(in_list[0]),int(in_list[2])) if int(in_list[2]) != 0 else -1\n",
    "    print(f'arithmetic_operation({in_list[0]} {in_list[1]} {in_list[2]}) ➞ {output}')\n",
    "    \n",
    "arithmetic_operation(\"12 + 12\")\n",
    "arithmetic_operation(\"12 - 12\")\n",
    "arithmetic_operation(\"12 * 12\")\n",
    "arithmetic_operation(\"12 // 0\")"
   ]
  },
  {
   "cell_type": "code",
   "execution_count": 2,
   "id": "390ae9c1",
   "metadata": {},
   "outputs": [
    {
     "name": "stdout",
     "output_type": "stream",
     "text": [
      "perimeter([[15, 7], [5, 22], [11, 1]]) ➞ 47.08\n",
      "perimeter([[0, 0], [0, 1], [1, 0]]) ➞ 3.41\n",
      "perimeter([[-10, -10], [10, 10], [-10, 10]]) ➞ 68.28\n"
     ]
    }
   ],
   "source": [
    "# 2.Write a function that takes the coordinates of three points in the form of a 2d array and returns the perimeter of the \n",
    "# triangle. The given points are the vertices of a triangle on a two-dimensional plane.\n",
    "import math\n",
    "\n",
    "def distance(a,b):\n",
    "    return math.sqrt(pow((b[1]-a[1]),2)+pow((b[0]-a[0]),2))\n",
    "\n",
    "def perimeter(in_array):\n",
    "    perimeter = []\n",
    "    for ele in range(len(in_array)):\n",
    "        if ele == len(in_array)-1:\n",
    "            perimeter.append(distance(in_array[ele],in_array[0]))\n",
    "        else:\n",
    "            perimeter.append(distance(in_array[ele],in_array[ele+1]))\n",
    "    print(f'perimeter({in_array}) ➞ {sum(perimeter):.2f}')\n",
    "    \n",
    "perimeter([[15,7],[5,22],[11,1]])\n",
    "perimeter([[0,0],[0,1],[1,0]])\n",
    "perimeter([[-10,-10],[10,10],[-10,10]])"
   ]
  },
  {
   "cell_type": "code",
   "execution_count": 3,
   "id": "f3204378",
   "metadata": {},
   "outputs": [
    {
     "name": "stdout",
     "output_type": "stream",
     "text": [
      "tallest_skyscraper([[0, 0, 0, 0], [0, 1, 0, 0], [0, 1, 1, 0], [1, 1, 1, 1]]) ➞ 3\n",
      "tallest_skyscraper([[0, 1, 0, 0], [0, 1, 0, 0], [0, 1, 1, 0], [1, 1, 1, 1]]) ➞ 4\n",
      "tallest_skyscraper([[0, 0, 0, 0], [0, 0, 0, 0], [1, 1, 1, 0], [1, 1, 1, 1]]) ➞ 2\n"
     ]
    }
   ],
   "source": [
    "# 3.A city skyline can be represented as a 2-D list with 1s representing buildings. In the example below, the height of the tallest building is 4 (second-most right column).\n",
    "# [[0, 0, 0, 0, 0, 0],\n",
    "# [0, 0, 0, 0, 1, 0],\n",
    "# [0, 0, 1, 0, 1, 0],\n",
    "# [0, 1, 1, 1, 1, 0],\n",
    "# [1, 1, 1, 1, 1, 1]]\n",
    "# Create a function that takes a skyline (2-D list of 0's and 1's) and returns the height of the tallest skyscraper.\n",
    "def tallest_skyscraper(in_list):\n",
    "    out_list = []\n",
    "    for num in range(len(in_list)):\n",
    "        count = 0\n",
    "        for ele in range(len(in_list[num])):\n",
    "            count += in_list[ele][num]\n",
    "        out_list.append(count)\n",
    "    print(f'tallest_skyscraper({in_list}) ➞ {max(out_list)}')\n",
    "        \n",
    "tallest_skyscraper([[0, 0, 0, 0],[0, 1, 0, 0],[0, 1, 1, 0],[1, 1, 1, 1]])\n",
    "tallest_skyscraper([[0, 1, 0, 0],[0, 1, 0, 0],[0, 1, 1, 0],[1, 1, 1, 1]])\n",
    "tallest_skyscraper([[0, 0, 0, 0],[0, 0, 0, 0],[1, 1, 1, 0],[1, 1, 1, 1]])\n",
    "\n"
   ]
  },
  {
   "cell_type": "code",
   "execution_count": 4,
   "id": "849ccc37",
   "metadata": {},
   "outputs": [
    {
     "name": "stdout",
     "output_type": "stream",
     "text": [
      "bonus(15) ➞ 0\n",
      "bonus(44) ➞ 4800\n",
      "bonus(37) ➞ 1625\n",
      "bonus(50) ➞ 8200\n"
     ]
    }
   ],
   "source": [
    "# 4.A financial institution provides professional services to banks and claims charges \n",
    "# from the customers based on the number of man-days provided. Internally, it has set a \n",
    "# scheme to motivate and reward staff to meet and exceed targeted billable utilization and\n",
    "# revenues by paying a bonus for each day\n",
    "# claimed from customers in excess of a threshold target.\n",
    "def bonus(int_num):\n",
    "    if int_num > 48:\n",
    "        output = 0+(8*325)+(8*550)+((int_num-48)*600)\n",
    "    elif int_num < 48 and int_num >= 41:\n",
    "        output = 0+(8*325)+((int_num-41+1)*550)\n",
    "    elif int_num >33 and int_num <= 40:\n",
    "        output = 0+((int_num-33+1)*325)\n",
    "    else:\n",
    "        output = 0\n",
    "    print(f'bonus({int_num}) ➞ {output}')\n",
    "        \n",
    "bonus(15)\n",
    "bonus(44)\n",
    "bonus(37)\n",
    "bonus(50)"
   ]
  },
  {
   "cell_type": "code",
   "execution_count": 6,
   "id": "23f9463a",
   "metadata": {},
   "outputs": [
    {
     "name": "stdout",
     "output_type": "stream",
     "text": [
      "is_disarium(75) ➞ False\n",
      "is_disarium(135) ➞ True\n",
      "is_disarium(544) ➞ False\n",
      "is_disarium(518) ➞ True\n",
      "is_disarium(466) ➞ False\n"
     ]
    }
   ],
   "source": [
    "# 5.A number is said to be Disarium if the sum of its digits raised to their respective positions is the number itself.\n",
    "def is_disarium(in_num):\n",
    "    sum = 0\n",
    "    output = False\n",
    "    for ele in range(len(str(in_num))):\n",
    "        sum += int(str(in_num)[ele])**(ele+1)\n",
    "    if in_num == sum:\n",
    "        output=True\n",
    "    print(f'is_disarium({in_num}) ➞ {output}')\n",
    "    \n",
    "is_disarium(75)\n",
    "is_disarium(135)\n",
    "is_disarium(544)\n",
    "is_disarium(518)\n",
    "is_disarium(466)"
   ]
  },
  {
   "cell_type": "code",
   "execution_count": null,
   "id": "32d84974",
   "metadata": {},
   "outputs": [],
   "source": []
  }
 ],
 "metadata": {
  "kernelspec": {
   "display_name": "Python 3",
   "language": "python",
   "name": "python3"
  },
  "language_info": {
   "codemirror_mode": {
    "name": "ipython",
    "version": 3
   },
   "file_extension": ".py",
   "mimetype": "text/x-python",
   "name": "python",
   "nbconvert_exporter": "python",
   "pygments_lexer": "ipython3",
   "version": "3.8.8"
  }
 },
 "nbformat": 4,
 "nbformat_minor": 5
}
